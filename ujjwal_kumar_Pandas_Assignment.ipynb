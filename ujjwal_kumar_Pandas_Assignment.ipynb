{
  "nbformat": 4,
  "nbformat_minor": 0,
  "metadata": {
    "kernelspec": {
      "display_name": "Python 3",
      "language": "python",
      "name": "python3"
    },
    "language_info": {
      "codemirror_mode": {
        "name": "ipython",
        "version": 3
      },
      "file_extension": ".py",
      "mimetype": "text/x-python",
      "name": "python",
      "nbconvert_exporter": "python",
      "pygments_lexer": "ipython3",
      "version": "3.7.4"
    },
    "colab": {
      "name": "ujjwal_kumar-Pandas Assignment.ipynb",
      "provenance": [],
      "collapsed_sections": [],
      "include_colab_link": true
    }
  },
  "cells": [
    {
      "cell_type": "markdown",
      "metadata": {
        "id": "view-in-github",
        "colab_type": "text"
      },
      "source": [
        "<a href=\"https://colab.research.google.com/github/ujjwalk39/awesome-public-datasets/blob/master/ujjwal_kumar_Pandas_Assignment.ipynb\" target=\"_parent\"><img src=\"https://colab.research.google.com/assets/colab-badge.svg\" alt=\"Open In Colab\"/></a>"
      ]
    },
    {
      "cell_type": "markdown",
      "metadata": {
        "id": "K98bIfOkf4OC"
      },
      "source": [
        "\n",
        "\n",
        "```\n",
        "# This is formatted as code\n",
        "```\n",
        "\n",
        "Note: First make a copy of this file then start coding. Dont run the answer cells otherwise you'll lose the answers"
      ]
    },
    {
      "cell_type": "markdown",
      "metadata": {
        "id": "hogHI7B9f4OJ"
      },
      "source": [
        "# Pandas Exercises\n",
        "\n",
        "**Source of the Data: https://www.kaggle.com/chirin/africa-economic-banking-and-systemic-crisis-data/downloads/africa-economic-banking-and-systemic-crisis-data.zip/1**\n",
        "\n",
        "\n",
        "This dataset is a derivative of Reinhart et. al's Global Financial Stability dataset which can be found online at: https://www.hbs.edu/behavioral-finance-and-financial-stability/data/Pages/global.aspx\n",
        "\n",
        "The dataset will be valuable to those who seek to understand the dynamics of financial stability within the African context.\n",
        "\n",
        "Content\n",
        "The dataset specifically focuses on the Banking, Debt, Financial, Inflation and Systemic Crises that occurred, from 1860 to 2014, in 13 African countries, including: Algeria, Angola, Central African Republic, Ivory Coast, Egypt, Kenya, Mauritius, Morocco, Nigeria, South Africa, Tunisia, Zambia and Zimbabwe.\n",
        "\n",
        "\n",
        "\n",
        "* caseA     number which denotes a specific country\n",
        "* cc3A     three letter country code\n",
        "* country    The name of the country\n",
        "* year   The year of the observation\n",
        "* systemic_crisis\"0\" means that no systemic crisis occurred in the year and \"1\" means that a systemic crisis occurred in the year.\n",
        "* exch_usd    The exchange rate of the country vis-a-vis the USD\n",
        "* domestic_debt_in_default   \"0\" means that no sovereign domestic debt default occurred in the year and \"1\" means that a sovereign domestic debt default occurred in the year\n",
        "* sovereign_external_debt_default  \"0\" means that no sovereign external debt default occurred in the year and \"1\" means that a sovereign external debt default occurred in the year\n",
        "* gdp_weighted_default    The total debt in default vis-a-vis the GDP\n",
        "* inflation_annual_cpi    The annual CPI Inflation rate\n",
        "* independence   \"0\" means \"no independence\" and \"1\" means \"independence\"\n",
        "* currency_crises  \"0\" means that no currency crisis occurred in the year and \"1\" means that a currency crisis occurred in the year\n",
        "* inflation_crises  \"0\" means that no inflation crisis occurred in the year and \"1\" means that an inflation crisis occurred in the year\n",
        "* banking_crisis\"no_crisis\" means that no banking crisis occurred in the year and \"crisis\" means that a banking crisis occurred in the year"
      ]
    },
    {
      "cell_type": "markdown",
      "metadata": {
        "id": "LXHIpkaCf4OK"
      },
      "source": [
        "---\n",
        "---\n",
        "***PLEASE NOTE! THERE ARE MANY,MANY DIFFERENT POSSIBLE SOLUTIONS TO THESE QUESTIONS! PLEASE DON'T POST ASKING IF YOUR SOLUTION IS OK IF ITS DIFFERENT. AS LONG AS YOU GOT THE CORRECT ANSWER IT IS OK!***\n",
        "\n",
        "---\n",
        "---\n",
        "# Complete the Tasks Below\n",
        "---"
      ]
    },
    {
      "cell_type": "markdown",
      "metadata": {
        "id": "dFul8Xlzf4OL"
      },
      "source": [
        "**TASK: Import pandas**"
      ]
    },
    {
      "cell_type": "code",
      "metadata": {
        "id": "qVxrifrbf4OL"
      },
      "source": [
        "# CODE HERE"
      ],
      "execution_count": null,
      "outputs": []
    },
    {
      "cell_type": "code",
      "metadata": {
        "id": "2ebpPEdrf4OM"
      },
      "source": [
        "import pandas as pd"
      ],
      "execution_count": 1,
      "outputs": []
    },
    {
      "cell_type": "markdown",
      "metadata": {
        "id": "FeviBvGkf4OM"
      },
      "source": [
        "**TASK:  Read in the african_econ_crises.csv file that is located under the 01-Crash-Course-Pandas folder. Pay close attention to where the .csv file is located! Please don't post to the QA forums if you can't figure this one out, instead, run our solutions notebook directly to see how its done.**"
      ]
    },
    {
      "cell_type": "code",
      "metadata": {
        "id": "yl74uKL-f4ON"
      },
      "source": [
        "# CODE HERE"
      ],
      "execution_count": null,
      "outputs": []
    },
    {
      "cell_type": "code",
      "metadata": {
        "id": "o4m5N5VYf4OO"
      },
      "source": [
        "df=pd.read_csv('african_econ_crises.csv')"
      ],
      "execution_count": 22,
      "outputs": []
    },
    {
      "cell_type": "markdown",
      "metadata": {
        "id": "fQt590BVf4OO"
      },
      "source": [
        "**TASK: Display the first 5 rows of the data set**"
      ]
    },
    {
      "cell_type": "code",
      "metadata": {
        "id": "U9_XEEumf4OO"
      },
      "source": [
        "# CODE HERE"
      ],
      "execution_count": null,
      "outputs": []
    },
    {
      "cell_type": "code",
      "metadata": {
        "id": "Iuf3x29wf4OP",
        "colab": {
          "base_uri": "https://localhost:8080/",
          "height": 224
        },
        "outputId": "29b0ae11-cf17-4a81-bfe2-196969062f24"
      },
      "source": [
        "df.head()"
      ],
      "execution_count": 23,
      "outputs": [
        {
          "output_type": "execute_result",
          "data": {
            "text/html": [
              "<div>\n",
              "<style scoped>\n",
              "    .dataframe tbody tr th:only-of-type {\n",
              "        vertical-align: middle;\n",
              "    }\n",
              "\n",
              "    .dataframe tbody tr th {\n",
              "        vertical-align: top;\n",
              "    }\n",
              "\n",
              "    .dataframe thead th {\n",
              "        text-align: right;\n",
              "    }\n",
              "</style>\n",
              "<table border=\"1\" class=\"dataframe\">\n",
              "  <thead>\n",
              "    <tr style=\"text-align: right;\">\n",
              "      <th></th>\n",
              "      <th>case</th>\n",
              "      <th>cc3</th>\n",
              "      <th>country</th>\n",
              "      <th>year</th>\n",
              "      <th>systemic_crisis</th>\n",
              "      <th>exch_usd</th>\n",
              "      <th>domestic_debt_in_default</th>\n",
              "      <th>sovereign_external_debt_default</th>\n",
              "      <th>gdp_weighted_default</th>\n",
              "      <th>inflation_annual_cpi</th>\n",
              "      <th>independence</th>\n",
              "      <th>currency_crises</th>\n",
              "      <th>inflation_crises</th>\n",
              "      <th>banking_crisis</th>\n",
              "    </tr>\n",
              "  </thead>\n",
              "  <tbody>\n",
              "    <tr>\n",
              "      <th>0</th>\n",
              "      <td>1</td>\n",
              "      <td>DZA</td>\n",
              "      <td>Algeria</td>\n",
              "      <td>1870</td>\n",
              "      <td>1</td>\n",
              "      <td>0.052264</td>\n",
              "      <td>0</td>\n",
              "      <td>0</td>\n",
              "      <td>0.0</td>\n",
              "      <td>3.441456</td>\n",
              "      <td>0</td>\n",
              "      <td>0</td>\n",
              "      <td>0</td>\n",
              "      <td>crisis</td>\n",
              "    </tr>\n",
              "    <tr>\n",
              "      <th>1</th>\n",
              "      <td>1</td>\n",
              "      <td>DZA</td>\n",
              "      <td>Algeria</td>\n",
              "      <td>1871</td>\n",
              "      <td>0</td>\n",
              "      <td>0.052798</td>\n",
              "      <td>0</td>\n",
              "      <td>0</td>\n",
              "      <td>0.0</td>\n",
              "      <td>14.149140</td>\n",
              "      <td>0</td>\n",
              "      <td>0</td>\n",
              "      <td>0</td>\n",
              "      <td>no_crisis</td>\n",
              "    </tr>\n",
              "    <tr>\n",
              "      <th>2</th>\n",
              "      <td>1</td>\n",
              "      <td>DZA</td>\n",
              "      <td>Algeria</td>\n",
              "      <td>1872</td>\n",
              "      <td>0</td>\n",
              "      <td>0.052274</td>\n",
              "      <td>0</td>\n",
              "      <td>0</td>\n",
              "      <td>0.0</td>\n",
              "      <td>-3.718593</td>\n",
              "      <td>0</td>\n",
              "      <td>0</td>\n",
              "      <td>0</td>\n",
              "      <td>no_crisis</td>\n",
              "    </tr>\n",
              "    <tr>\n",
              "      <th>3</th>\n",
              "      <td>1</td>\n",
              "      <td>DZA</td>\n",
              "      <td>Algeria</td>\n",
              "      <td>1873</td>\n",
              "      <td>0</td>\n",
              "      <td>0.051680</td>\n",
              "      <td>0</td>\n",
              "      <td>0</td>\n",
              "      <td>0.0</td>\n",
              "      <td>11.203897</td>\n",
              "      <td>0</td>\n",
              "      <td>0</td>\n",
              "      <td>0</td>\n",
              "      <td>no_crisis</td>\n",
              "    </tr>\n",
              "    <tr>\n",
              "      <th>4</th>\n",
              "      <td>1</td>\n",
              "      <td>DZA</td>\n",
              "      <td>Algeria</td>\n",
              "      <td>1874</td>\n",
              "      <td>0</td>\n",
              "      <td>0.051308</td>\n",
              "      <td>0</td>\n",
              "      <td>0</td>\n",
              "      <td>0.0</td>\n",
              "      <td>-3.848561</td>\n",
              "      <td>0</td>\n",
              "      <td>0</td>\n",
              "      <td>0</td>\n",
              "      <td>no_crisis</td>\n",
              "    </tr>\n",
              "  </tbody>\n",
              "</table>\n",
              "</div>"
            ],
            "text/plain": [
              "   case  cc3  country  ...  currency_crises  inflation_crises  banking_crisis\n",
              "0     1  DZA  Algeria  ...                0                 0          crisis\n",
              "1     1  DZA  Algeria  ...                0                 0       no_crisis\n",
              "2     1  DZA  Algeria  ...                0                 0       no_crisis\n",
              "3     1  DZA  Algeria  ...                0                 0       no_crisis\n",
              "4     1  DZA  Algeria  ...                0                 0       no_crisis\n",
              "\n",
              "[5 rows x 14 columns]"
            ]
          },
          "metadata": {
            "tags": []
          },
          "execution_count": 23
        }
      ]
    },
    {
      "cell_type": "markdown",
      "metadata": {
        "id": "MusJMzw0f4OQ"
      },
      "source": [
        "**TASK: How many countries are represented in this data set?**"
      ]
    },
    {
      "cell_type": "code",
      "metadata": {
        "id": "THp_3anef4OR"
      },
      "source": [
        "# CODE HERE"
      ],
      "execution_count": null,
      "outputs": []
    },
    {
      "cell_type": "code",
      "metadata": {
        "id": "B4Mb8yG_f4OR",
        "colab": {
          "base_uri": "https://localhost:8080/"
        },
        "outputId": "e4c83f45-bc9a-460f-d63f-284a01555154"
      },
      "source": [
        "df['country'].nunique()"
      ],
      "execution_count": 24,
      "outputs": [
        {
          "output_type": "execute_result",
          "data": {
            "text/plain": [
              "13"
            ]
          },
          "metadata": {
            "tags": []
          },
          "execution_count": 24
        }
      ]
    },
    {
      "cell_type": "markdown",
      "metadata": {
        "id": "syDdsAxKf4OS"
      },
      "source": [
        "**TASK: What are the countries represented in this data set?**"
      ]
    },
    {
      "cell_type": "code",
      "metadata": {
        "id": "xBhyAfTef4OS"
      },
      "source": [
        "# CODE HERE"
      ],
      "execution_count": null,
      "outputs": []
    },
    {
      "cell_type": "code",
      "metadata": {
        "id": "jZGKsOnwf4OS",
        "colab": {
          "base_uri": "https://localhost:8080/"
        },
        "outputId": "59f07067-b3bb-409f-be8d-6c6728015988"
      },
      "source": [
        "df['country'].unique()"
      ],
      "execution_count": 29,
      "outputs": [
        {
          "output_type": "execute_result",
          "data": {
            "text/plain": [
              "array(['Algeria', 'Angola', 'Central African Republic', 'Ivory Coast',\n",
              "       'Egypt', 'Kenya', 'Mauritius', 'Morocco', 'Nigeria',\n",
              "       'South Africa', 'Tunisia', 'Zambia', 'Zimbabwe'], dtype=object)"
            ]
          },
          "metadata": {
            "tags": []
          },
          "execution_count": 29
        }
      ]
    },
    {
      "cell_type": "markdown",
      "metadata": {
        "id": "FksKQSocf4OS"
      },
      "source": [
        "**TASK: What country had this highest annual CPI Inflation rate? What was the inflation rate?**"
      ]
    },
    {
      "cell_type": "code",
      "metadata": {
        "id": "4EZaok6xf4OT"
      },
      "source": [
        "# CODE HERE"
      ],
      "execution_count": null,
      "outputs": []
    },
    {
      "cell_type": "code",
      "metadata": {
        "id": "P0hnvRP-f4OT",
        "colab": {
          "base_uri": "https://localhost:8080/",
          "height": 100
        },
        "outputId": "c6985352-25c6-4235-a85c-5fe96dd160af"
      },
      "source": [
        "max_inflation = df['inflation_annual_cpi'].max()\n",
        "df[df['inflation_annual_cpi'] == max_inflation]"
      ],
      "execution_count": 30,
      "outputs": [
        {
          "output_type": "execute_result",
          "data": {
            "text/html": [
              "<div>\n",
              "<style scoped>\n",
              "    .dataframe tbody tr th:only-of-type {\n",
              "        vertical-align: middle;\n",
              "    }\n",
              "\n",
              "    .dataframe tbody tr th {\n",
              "        vertical-align: top;\n",
              "    }\n",
              "\n",
              "    .dataframe thead th {\n",
              "        text-align: right;\n",
              "    }\n",
              "</style>\n",
              "<table border=\"1\" class=\"dataframe\">\n",
              "  <thead>\n",
              "    <tr style=\"text-align: right;\">\n",
              "      <th></th>\n",
              "      <th>case</th>\n",
              "      <th>cc3</th>\n",
              "      <th>country</th>\n",
              "      <th>year</th>\n",
              "      <th>systemic_crisis</th>\n",
              "      <th>exch_usd</th>\n",
              "      <th>domestic_debt_in_default</th>\n",
              "      <th>sovereign_external_debt_default</th>\n",
              "      <th>gdp_weighted_default</th>\n",
              "      <th>inflation_annual_cpi</th>\n",
              "      <th>independence</th>\n",
              "      <th>currency_crises</th>\n",
              "      <th>inflation_crises</th>\n",
              "      <th>banking_crisis</th>\n",
              "    </tr>\n",
              "  </thead>\n",
              "  <tbody>\n",
              "    <tr>\n",
              "      <th>1053</th>\n",
              "      <td>70</td>\n",
              "      <td>ZWE</td>\n",
              "      <td>Zimbabwe</td>\n",
              "      <td>2008</td>\n",
              "      <td>1</td>\n",
              "      <td>0.002</td>\n",
              "      <td>1</td>\n",
              "      <td>1</td>\n",
              "      <td>0.0</td>\n",
              "      <td>21989695.22</td>\n",
              "      <td>1</td>\n",
              "      <td>1</td>\n",
              "      <td>1</td>\n",
              "      <td>crisis</td>\n",
              "    </tr>\n",
              "  </tbody>\n",
              "</table>\n",
              "</div>"
            ],
            "text/plain": [
              "      case  cc3   country  ...  currency_crises  inflation_crises  banking_crisis\n",
              "1053    70  ZWE  Zimbabwe  ...                1                 1          crisis\n",
              "\n",
              "[1 rows x 14 columns]"
            ]
          },
          "metadata": {
            "tags": []
          },
          "execution_count": 30
        }
      ]
    },
    {
      "cell_type": "markdown",
      "metadata": {
        "id": "eQ1OMPg4f4OT"
      },
      "source": [
        "**TASK: In what year did Kenya have its first System Crisis?**"
      ]
    },
    {
      "cell_type": "code",
      "metadata": {
        "id": "3uT6HdcLf4OU"
      },
      "source": [
        "# CODE HERE"
      ],
      "execution_count": null,
      "outputs": []
    },
    {
      "cell_type": "code",
      "metadata": {
        "id": "4jn6evLkf4OU",
        "colab": {
          "base_uri": "https://localhost:8080/"
        },
        "outputId": "5944270b-1eab-4463-9880-be709b468fdb"
      },
      "source": [
        "sorted = df[(df['systemic_crisis']==1) & (df['country']== 'Kenya')].sort_values('year')\n",
        "sorted['year'].min()"
      ],
      "execution_count": 31,
      "outputs": [
        {
          "output_type": "execute_result",
          "data": {
            "text/plain": [
              "1985"
            ]
          },
          "metadata": {
            "tags": []
          },
          "execution_count": 31
        }
      ]
    },
    {
      "cell_type": "markdown",
      "metadata": {
        "id": "QkZNcaPXf4OU"
      },
      "source": [
        "**TASK: How many yearly systemic crisises have occurred per country?**"
      ]
    },
    {
      "cell_type": "code",
      "metadata": {
        "id": "0gGq-4fkf4OU"
      },
      "source": [
        "# CODE HERE"
      ],
      "execution_count": null,
      "outputs": []
    },
    {
      "cell_type": "code",
      "metadata": {
        "id": "N3SKavajf4OV",
        "colab": {
          "base_uri": "https://localhost:8080/"
        },
        "outputId": "66a4580a-5802-41d7-bbee-d24c27413bf1"
      },
      "source": [
        "df_one = df.groupby('country').count()\n",
        "df_one['systemic_crisis']"
      ],
      "execution_count": 38,
      "outputs": [
        {
          "output_type": "execute_result",
          "data": {
            "text/plain": [
              "country\n",
              "Algeria                      85\n",
              "Angola                       77\n",
              "Central African Republic     58\n",
              "Egypt                       155\n",
              "Ivory Coast                  63\n",
              "Kenya                        67\n",
              "Mauritius                    68\n",
              "Morocco                      75\n",
              "Nigeria                      60\n",
              "South Africa                114\n",
              "Tunisia                      75\n",
              "Zambia                       72\n",
              "Zimbabwe                     90\n",
              "Name: systemic_crisis, dtype: int64"
            ]
          },
          "metadata": {
            "tags": []
          },
          "execution_count": 38
        }
      ]
    },
    {
      "cell_type": "markdown",
      "metadata": {
        "id": "AI0yq2kSf4OV"
      },
      "source": [
        "**TASK: How many years did  Zimbabwe have a sovereign external debt default occur?** "
      ]
    },
    {
      "cell_type": "code",
      "metadata": {
        "id": "MLCOrXyBf4OV"
      },
      "source": [
        "# CODE HERE"
      ],
      "execution_count": null,
      "outputs": []
    },
    {
      "cell_type": "code",
      "metadata": {
        "id": "d4S_E2Fof4OW",
        "colab": {
          "base_uri": "https://localhost:8080/"
        },
        "outputId": "a881b05a-535d-42b8-82b2-969f67a096bc"
      },
      "source": [
        "sorted = df[(df['sovereign_external_debt_default']==1) & (df['country']== 'Zimbabwe')].sort_values('year')\n",
        "len(sorted)"
      ],
      "execution_count": 33,
      "outputs": [
        {
          "output_type": "execute_result",
          "data": {
            "text/plain": [
              "30"
            ]
          },
          "metadata": {
            "tags": []
          },
          "execution_count": 33
        }
      ]
    },
    {
      "cell_type": "markdown",
      "metadata": {
        "id": "BX-ddvyVf4OW"
      },
      "source": [
        "**TASK: In what year did Algeria have its highest exchange rate?**"
      ]
    },
    {
      "cell_type": "code",
      "metadata": {
        "scrolled": true,
        "id": "drRtEI0Kf4OW"
      },
      "source": [
        "# CODE HERE"
      ],
      "execution_count": null,
      "outputs": []
    },
    {
      "cell_type": "code",
      "metadata": {
        "id": "4qXKyJi_f4OX",
        "colab": {
          "base_uri": "https://localhost:8080/",
          "height": 100
        },
        "outputId": "3881dede-358d-479c-f62c-d6ab02f7c080"
      },
      "source": [
        "df_one = df[df['country'] == 'Algeria']\n",
        "max_exchange = df_one['exch_usd'].max()\n",
        "df_one[df_one['exch_usd'] == max_exchange]"
      ],
      "execution_count": 39,
      "outputs": [
        {
          "output_type": "execute_result",
          "data": {
            "text/html": [
              "<div>\n",
              "<style scoped>\n",
              "    .dataframe tbody tr th:only-of-type {\n",
              "        vertical-align: middle;\n",
              "    }\n",
              "\n",
              "    .dataframe tbody tr th {\n",
              "        vertical-align: top;\n",
              "    }\n",
              "\n",
              "    .dataframe thead th {\n",
              "        text-align: right;\n",
              "    }\n",
              "</style>\n",
              "<table border=\"1\" class=\"dataframe\">\n",
              "  <thead>\n",
              "    <tr style=\"text-align: right;\">\n",
              "      <th></th>\n",
              "      <th>case</th>\n",
              "      <th>cc3</th>\n",
              "      <th>country</th>\n",
              "      <th>year</th>\n",
              "      <th>systemic_crisis</th>\n",
              "      <th>exch_usd</th>\n",
              "      <th>domestic_debt_in_default</th>\n",
              "      <th>sovereign_external_debt_default</th>\n",
              "      <th>gdp_weighted_default</th>\n",
              "      <th>inflation_annual_cpi</th>\n",
              "      <th>independence</th>\n",
              "      <th>currency_crises</th>\n",
              "      <th>inflation_crises</th>\n",
              "      <th>banking_crisis</th>\n",
              "    </tr>\n",
              "  </thead>\n",
              "  <tbody>\n",
              "    <tr>\n",
              "      <th>84</th>\n",
              "      <td>1</td>\n",
              "      <td>DZA</td>\n",
              "      <td>Algeria</td>\n",
              "      <td>2014</td>\n",
              "      <td>0</td>\n",
              "      <td>87.970698</td>\n",
              "      <td>0</td>\n",
              "      <td>0</td>\n",
              "      <td>0.0</td>\n",
              "      <td>2.917</td>\n",
              "      <td>1</td>\n",
              "      <td>0</td>\n",
              "      <td>0</td>\n",
              "      <td>no_crisis</td>\n",
              "    </tr>\n",
              "  </tbody>\n",
              "</table>\n",
              "</div>"
            ],
            "text/plain": [
              "    case  cc3  country  ...  currency_crises  inflation_crises  banking_crisis\n",
              "84     1  DZA  Algeria  ...                0                 0       no_crisis\n",
              "\n",
              "[1 rows x 14 columns]"
            ]
          },
          "metadata": {
            "tags": []
          },
          "execution_count": 39
        }
      ]
    }
  ]
}
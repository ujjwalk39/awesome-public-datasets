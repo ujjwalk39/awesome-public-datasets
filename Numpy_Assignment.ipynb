{
  "nbformat": 4,
  "nbformat_minor": 0,
  "metadata": {
    "anaconda-cloud": {},
    "kernelspec": {
      "display_name": "Python 3",
      "language": "python",
      "name": "python3"
    },
    "language_info": {
      "codemirror_mode": {
        "name": "ipython",
        "version": 3
      },
      "file_extension": ".py",
      "mimetype": "text/x-python",
      "name": "python",
      "nbconvert_exporter": "python",
      "pygments_lexer": "ipython3",
      "version": "3.7.4"
    },
    "colab": {
      "name": "Copy of Numpy Assignment.ipynb",
      "provenance": [],
      "collapsed_sections": [],
      "include_colab_link": true
    }
  },
  "cells": [
    {
      "cell_type": "markdown",
      "metadata": {
        "id": "view-in-github",
        "colab_type": "text"
      },
      "source": [
        "<a href=\"https://colab.research.google.com/github/ujjwalk39/awesome-public-datasets/blob/master/Numpy_Assignment.ipynb\" target=\"_parent\"><img src=\"https://colab.research.google.com/assets/colab-badge.svg\" alt=\"Open In Colab\"/></a>"
      ]
    },
    {
      "cell_type": "markdown",
      "metadata": {
        "id": "0XW_SJCGfBaT"
      },
      "source": [
        ""
      ]
    },
    {
      "cell_type": "markdown",
      "metadata": {
        "id": "z1jNBxp6fBaY"
      },
      "source": [
        "# NumPy Exercises\n",
        "\n",
        "Now that we've learned about NumPy let's test your knowledge. We'll start off with a few simple tasks and then you'll be asked some more complicated questions.\n",
        "\n",
        "<div class=\"alert alert-danger\" style=\"margin: 10px\"><strong>IMPORTANT NOTE!</strong> Make sure you don't run the cells directly above the example output shown, <br>otherwise you will end up writing over the example output!</div>"
      ]
    },
    {
      "cell_type": "markdown",
      "metadata": {
        "id": "RC_WMbV0fBaZ"
      },
      "source": [
        "#### 1. Import NumPy as np"
      ]
    },
    {
      "cell_type": "code",
      "metadata": {
        "id": "yCVx2O8hfBaa"
      },
      "source": [
        "import numpy as np"
      ],
      "execution_count": 2,
      "outputs": []
    },
    {
      "cell_type": "markdown",
      "metadata": {
        "id": "m6LB3guAfBaa"
      },
      "source": [
        "#### 2. Create an array of 10 zeros "
      ]
    },
    {
      "cell_type": "code",
      "metadata": {
        "collapsed": true,
        "id": "-Zc8IQyQfBab",
        "colab": {
          "base_uri": "https://localhost:8080/"
        },
        "outputId": "42028aab-a657-4f93-f3ec-5113cded3b5f"
      },
      "source": [
        "# CODE HERE\n",
        "np.zeros(10)"
      ],
      "execution_count": 3,
      "outputs": [
        {
          "output_type": "execute_result",
          "data": {
            "text/plain": [
              "array([0., 0., 0., 0., 0., 0., 0., 0., 0., 0.])"
            ]
          },
          "metadata": {
            "tags": []
          },
          "execution_count": 3
        }
      ]
    },
    {
      "cell_type": "code",
      "metadata": {
        "id": "6fMDPKVkfBab",
        "outputId": "d919f973-1819-4550-ecb2-95ee0e5c6b9b"
      },
      "source": [
        "# DON'T WRITE HERE"
      ],
      "execution_count": null,
      "outputs": [
        {
          "output_type": "execute_result",
          "data": {
            "text/plain": [
              "array([0., 0., 0., 0., 0., 0., 0., 0., 0., 0.])"
            ]
          },
          "metadata": {
            "tags": []
          },
          "execution_count": 2
        }
      ]
    },
    {
      "cell_type": "markdown",
      "metadata": {
        "id": "h0mEq6ndfBad"
      },
      "source": [
        "#### 3. Create an array of 10 ones"
      ]
    },
    {
      "cell_type": "code",
      "metadata": {
        "collapsed": true,
        "id": "BQmRl2c-fBae",
        "colab": {
          "base_uri": "https://localhost:8080/"
        },
        "outputId": "73f20551-b169-4170-836d-bf2fa8304e37"
      },
      "source": [
        "np.ones(10)"
      ],
      "execution_count": 4,
      "outputs": [
        {
          "output_type": "execute_result",
          "data": {
            "text/plain": [
              "array([1., 1., 1., 1., 1., 1., 1., 1., 1., 1.])"
            ]
          },
          "metadata": {
            "tags": []
          },
          "execution_count": 4
        }
      ]
    },
    {
      "cell_type": "code",
      "metadata": {
        "id": "2aFPuiklfBae",
        "outputId": "0dbab21e-6496-44a0-b047-9b8f90176a66"
      },
      "source": [
        "# DON'T WRITE HERE"
      ],
      "execution_count": null,
      "outputs": [
        {
          "output_type": "execute_result",
          "data": {
            "text/plain": [
              "array([1., 1., 1., 1., 1., 1., 1., 1., 1., 1.])"
            ]
          },
          "metadata": {
            "tags": []
          },
          "execution_count": 3
        }
      ]
    },
    {
      "cell_type": "markdown",
      "metadata": {
        "id": "fE3RT5o0fBaf"
      },
      "source": [
        "#### 4. Create an array of 10 fives"
      ]
    },
    {
      "cell_type": "code",
      "metadata": {
        "collapsed": true,
        "id": "EdKcM6JbfBaf",
        "colab": {
          "base_uri": "https://localhost:8080/"
        },
        "outputId": "1a618572-cea1-46b9-d603-b9ddd7c7db10"
      },
      "source": [
        "np.ones(10)*5"
      ],
      "execution_count": 5,
      "outputs": [
        {
          "output_type": "execute_result",
          "data": {
            "text/plain": [
              "array([5., 5., 5., 5., 5., 5., 5., 5., 5., 5.])"
            ]
          },
          "metadata": {
            "tags": []
          },
          "execution_count": 5
        }
      ]
    },
    {
      "cell_type": "code",
      "metadata": {
        "id": "U3zGs3dZfBag",
        "outputId": "65639e6c-a47b-40ee-e08a-9432fce58187"
      },
      "source": [
        "# DON'T WRITE HERE"
      ],
      "execution_count": null,
      "outputs": [
        {
          "output_type": "execute_result",
          "data": {
            "text/plain": [
              "array([5., 5., 5., 5., 5., 5., 5., 5., 5., 5.])"
            ]
          },
          "metadata": {
            "tags": []
          },
          "execution_count": 4
        }
      ]
    },
    {
      "cell_type": "markdown",
      "metadata": {
        "id": "PSbLTfc-fBag"
      },
      "source": [
        "#### 5. Create an array of the integers from 10 to 50"
      ]
    },
    {
      "cell_type": "code",
      "metadata": {
        "collapsed": true,
        "id": "nD_BMLmefBag",
        "colab": {
          "base_uri": "https://localhost:8080/"
        },
        "outputId": "eef772cd-a6ae-4064-a3fd-7b8db385359f"
      },
      "source": [
        "np.arange(10,51)"
      ],
      "execution_count": 6,
      "outputs": [
        {
          "output_type": "execute_result",
          "data": {
            "text/plain": [
              "array([10, 11, 12, 13, 14, 15, 16, 17, 18, 19, 20, 21, 22, 23, 24, 25, 26,\n",
              "       27, 28, 29, 30, 31, 32, 33, 34, 35, 36, 37, 38, 39, 40, 41, 42, 43,\n",
              "       44, 45, 46, 47, 48, 49, 50])"
            ]
          },
          "metadata": {
            "tags": []
          },
          "execution_count": 6
        }
      ]
    },
    {
      "cell_type": "code",
      "metadata": {
        "id": "YoFZRsPkfBah",
        "outputId": "ccf73c3c-adfb-41b7-b387-a80ff3af67ca"
      },
      "source": [
        "# DON'T WRITE HERE"
      ],
      "execution_count": null,
      "outputs": [
        {
          "output_type": "execute_result",
          "data": {
            "text/plain": [
              "array([10, 11, 12, 13, 14, 15, 16, 17, 18, 19, 20, 21, 22, 23, 24, 25, 26,\n",
              "       27, 28, 29, 30, 31, 32, 33, 34, 35, 36, 37, 38, 39, 40, 41, 42, 43,\n",
              "       44, 45, 46, 47, 48, 49, 50])"
            ]
          },
          "metadata": {
            "tags": []
          },
          "execution_count": 5
        }
      ]
    },
    {
      "cell_type": "markdown",
      "metadata": {
        "id": "NUslfrGr0SsP"
      },
      "source": [
        ""
      ]
    },
    {
      "cell_type": "code",
      "metadata": {
        "id": "iGyVetwX0Rx2"
      },
      "source": [
        ""
      ],
      "execution_count": null,
      "outputs": []
    },
    {
      "cell_type": "markdown",
      "metadata": {
        "id": "9c7uF3FHfBah"
      },
      "source": [
        "#### 6. Create an array of all the even integers from 10 to 50\n",
        "\n",
        "*   List item\n",
        "*   List item\n",
        "\n"
      ]
    },
    {
      "cell_type": "code",
      "metadata": {
        "collapsed": true,
        "id": "myBYKjzNfBah",
        "colab": {
          "base_uri": "https://localhost:8080/"
        },
        "outputId": "bcd8e4a1-24b3-4b91-a0d3-30485284ca19"
      },
      "source": [
        "np.arange(10,51,2)"
      ],
      "execution_count": 7,
      "outputs": [
        {
          "output_type": "execute_result",
          "data": {
            "text/plain": [
              "array([10, 12, 14, 16, 18, 20, 22, 24, 26, 28, 30, 32, 34, 36, 38, 40, 42,\n",
              "       44, 46, 48, 50])"
            ]
          },
          "metadata": {
            "tags": []
          },
          "execution_count": 7
        }
      ]
    },
    {
      "cell_type": "code",
      "metadata": {
        "id": "WTzdk2_6fBai",
        "outputId": "9aaedcf6-73e4-4f0c-c242-0ec1bfddf030"
      },
      "source": [
        "# DON'T WRITE HERE"
      ],
      "execution_count": null,
      "outputs": [
        {
          "output_type": "execute_result",
          "data": {
            "text/plain": [
              "array([10, 12, 14, 16, 18, 20, 22, 24, 26, 28, 30, 32, 34, 36, 38, 40, 42,\n",
              "       44, 46, 48, 50])"
            ]
          },
          "metadata": {
            "tags": []
          },
          "execution_count": 6
        }
      ]
    },
    {
      "cell_type": "markdown",
      "metadata": {
        "id": "VHzPAmDKfBai"
      },
      "source": [
        "#### 7. Create a 3x3 matrix with values ranging from 0 to 8\n",
        "\n",
        "1.   List item\n",
        "2.   List item\n",
        "\n"
      ]
    },
    {
      "cell_type": "code",
      "metadata": {
        "collapsed": true,
        "id": "KRBjdH8MfBai",
        "colab": {
          "base_uri": "https://localhost:8080/"
        },
        "outputId": "f1c2fa51-ed27-4445-cf25-ed1d2b875e50"
      },
      "source": [
        "arr = np.arange(0,9)\n",
        "arr.reshape(3,3)"
      ],
      "execution_count": 8,
      "outputs": [
        {
          "output_type": "execute_result",
          "data": {
            "text/plain": [
              "array([[0, 1, 2],\n",
              "       [3, 4, 5],\n",
              "       [6, 7, 8]])"
            ]
          },
          "metadata": {
            "tags": []
          },
          "execution_count": 8
        }
      ]
    },
    {
      "cell_type": "code",
      "metadata": {
        "id": "vOGIAlGCfBaj",
        "outputId": "99ce16a6-58fd-40f6-9509-42915c9a5bf6"
      },
      "source": [
        "# DON'T WRITE HERE"
      ],
      "execution_count": null,
      "outputs": [
        {
          "output_type": "execute_result",
          "data": {
            "text/plain": [
              "array([[0, 1, 2],\n",
              "       [3, 4, 5],\n",
              "       [6, 7, 8]])"
            ]
          },
          "metadata": {
            "tags": []
          },
          "execution_count": 7
        }
      ]
    },
    {
      "cell_type": "markdown",
      "metadata": {
        "id": "I9V6D_MnfBaj"
      },
      "source": [
        "#### 8. Create a 3x3 identity matrix"
      ]
    },
    {
      "cell_type": "code",
      "metadata": {
        "collapsed": true,
        "id": "9OJRSLBifBaj",
        "colab": {
          "base_uri": "https://localhost:8080/"
        },
        "outputId": "f7aada45-1842-43aa-b430-f347e00eeec8"
      },
      "source": [
        "np.eye(3)"
      ],
      "execution_count": 9,
      "outputs": [
        {
          "output_type": "execute_result",
          "data": {
            "text/plain": [
              "array([[1., 0., 0.],\n",
              "       [0., 1., 0.],\n",
              "       [0., 0., 1.]])"
            ]
          },
          "metadata": {
            "tags": []
          },
          "execution_count": 9
        }
      ]
    },
    {
      "cell_type": "code",
      "metadata": {
        "id": "UgcxBJT9fBak",
        "outputId": "f5adda05-dd80-4c3a-eb5c-60e3d7f78898"
      },
      "source": [
        "# DON'T WRITE HERE"
      ],
      "execution_count": null,
      "outputs": [
        {
          "output_type": "execute_result",
          "data": {
            "text/plain": [
              "array([[1., 0., 0.],\n",
              "       [0., 1., 0.],\n",
              "       [0., 0., 1.]])"
            ]
          },
          "metadata": {
            "tags": []
          },
          "execution_count": 8
        }
      ]
    },
    {
      "cell_type": "markdown",
      "metadata": {
        "id": "D04JEN1vfBak"
      },
      "source": [
        "#### 9. Use NumPy to generate a random number between 0 and 1<br><br>&emsp;NOTE: Your result's value should be different from the one shown below."
      ]
    },
    {
      "cell_type": "code",
      "metadata": {
        "collapsed": true,
        "id": "-hlaDyD7fBak",
        "colab": {
          "base_uri": "https://localhost:8080/"
        },
        "outputId": "16f257ff-b4e1-466b-821c-322dcb422f6b"
      },
      "source": [
        "np.random.rand(1)"
      ],
      "execution_count": 10,
      "outputs": [
        {
          "output_type": "execute_result",
          "data": {
            "text/plain": [
              "array([0.55430402])"
            ]
          },
          "metadata": {
            "tags": []
          },
          "execution_count": 10
        }
      ]
    },
    {
      "cell_type": "code",
      "metadata": {
        "id": "FAk6FYPbfBak",
        "outputId": "a5258d5f-3441-44f9-ad50-2fa8d9d2b7df"
      },
      "source": [
        "# DON'T WRITE HERE"
      ],
      "execution_count": null,
      "outputs": [
        {
          "output_type": "execute_result",
          "data": {
            "text/plain": [
              "array([0.65248055])"
            ]
          },
          "metadata": {
            "tags": []
          },
          "execution_count": 9
        }
      ]
    },
    {
      "cell_type": "markdown",
      "metadata": {
        "id": "2Dw3dvrpfBal"
      },
      "source": [
        "#### 10. Use NumPy to generate an array of 25 random numbers sampled from a standard normal distribution<br><br>&emsp;&ensp;NOTE: Your result's values should be different from the ones shown below."
      ]
    },
    {
      "cell_type": "code",
      "metadata": {
        "collapsed": true,
        "id": "hYsPFSgKfBal",
        "colab": {
          "base_uri": "https://localhost:8080/"
        },
        "outputId": "dd04d2ff-5152-4ad3-a362-fd92b25b40a7"
      },
      "source": [
        "np.random.normal(0,1,25)"
      ],
      "execution_count": 11,
      "outputs": [
        {
          "output_type": "execute_result",
          "data": {
            "text/plain": [
              "array([ 1.35471766,  0.50677481, -0.23862003, -0.91140709,  1.69435183,\n",
              "        0.14337358, -1.76094589, -1.38401439,  1.14098963,  1.23012443,\n",
              "       -0.16250807, -2.28712665,  0.74038263, -1.46377945,  0.22529522,\n",
              "       -0.2288978 ,  1.02885406, -1.18997821,  1.18542683,  1.2679057 ,\n",
              "        0.19340968,  0.60480907, -1.77439328, -1.45388407,  0.13895137])"
            ]
          },
          "metadata": {
            "tags": []
          },
          "execution_count": 11
        }
      ]
    },
    {
      "cell_type": "code",
      "metadata": {
        "id": "Tj_Em2vYfBam",
        "outputId": "8d36cb2a-128a-4994-f47a-22b9a8583ee4"
      },
      "source": [
        "# DON'T WRITE HERE"
      ],
      "execution_count": null,
      "outputs": [
        {
          "output_type": "execute_result",
          "data": {
            "text/plain": [
              "array([ 1.80076712, -1.12375847, -0.98524305,  0.11673573,  1.96346762,\n",
              "        1.81378592, -0.33790771,  0.85012656,  0.0100703 , -0.91005957,\n",
              "        0.29064366,  0.69906357,  0.1774377 , -0.61958694, -0.45498611,\n",
              "       -2.0804685 , -0.06778549,  1.06403819,  0.4311884 , -1.09853837,\n",
              "        1.11980469, -0.48751963,  1.32517611, -0.61775122, -0.00622865])"
            ]
          },
          "metadata": {
            "tags": []
          },
          "execution_count": 10
        }
      ]
    },
    {
      "cell_type": "markdown",
      "metadata": {
        "id": "dHmLdPWNfBam"
      },
      "source": [
        "#### 11. Create the following matrix:"
      ]
    },
    {
      "cell_type": "code",
      "metadata": {
        "collapsed": true,
        "id": "MP7F78w2fBam",
        "colab": {
          "base_uri": "https://localhost:8080/"
        },
        "outputId": "9ac34e5a-f720-4a67-e0ba-b0a98ec2d881"
      },
      "source": [
        "arr = np.arange(0.01,1.01,.01)\n",
        "arr.reshape(10,10)"
      ],
      "execution_count": 12,
      "outputs": [
        {
          "output_type": "execute_result",
          "data": {
            "text/plain": [
              "array([[0.01, 0.02, 0.03, 0.04, 0.05, 0.06, 0.07, 0.08, 0.09, 0.1 ],\n",
              "       [0.11, 0.12, 0.13, 0.14, 0.15, 0.16, 0.17, 0.18, 0.19, 0.2 ],\n",
              "       [0.21, 0.22, 0.23, 0.24, 0.25, 0.26, 0.27, 0.28, 0.29, 0.3 ],\n",
              "       [0.31, 0.32, 0.33, 0.34, 0.35, 0.36, 0.37, 0.38, 0.39, 0.4 ],\n",
              "       [0.41, 0.42, 0.43, 0.44, 0.45, 0.46, 0.47, 0.48, 0.49, 0.5 ],\n",
              "       [0.51, 0.52, 0.53, 0.54, 0.55, 0.56, 0.57, 0.58, 0.59, 0.6 ],\n",
              "       [0.61, 0.62, 0.63, 0.64, 0.65, 0.66, 0.67, 0.68, 0.69, 0.7 ],\n",
              "       [0.71, 0.72, 0.73, 0.74, 0.75, 0.76, 0.77, 0.78, 0.79, 0.8 ],\n",
              "       [0.81, 0.82, 0.83, 0.84, 0.85, 0.86, 0.87, 0.88, 0.89, 0.9 ],\n",
              "       [0.91, 0.92, 0.93, 0.94, 0.95, 0.96, 0.97, 0.98, 0.99, 1.  ]])"
            ]
          },
          "metadata": {
            "tags": []
          },
          "execution_count": 12
        }
      ]
    },
    {
      "cell_type": "code",
      "metadata": {
        "id": "HeRvXGlzfBan",
        "outputId": "ae098ce6-215f-40f3-ea45-2652aab0ff63"
      },
      "source": [
        "# DON'T WRITE HERE"
      ],
      "execution_count": null,
      "outputs": [
        {
          "output_type": "execute_result",
          "data": {
            "text/plain": [
              "array([[0.01, 0.02, 0.03, 0.04, 0.05, 0.06, 0.07, 0.08, 0.09, 0.1 ],\n",
              "       [0.11, 0.12, 0.13, 0.14, 0.15, 0.16, 0.17, 0.18, 0.19, 0.2 ],\n",
              "       [0.21, 0.22, 0.23, 0.24, 0.25, 0.26, 0.27, 0.28, 0.29, 0.3 ],\n",
              "       [0.31, 0.32, 0.33, 0.34, 0.35, 0.36, 0.37, 0.38, 0.39, 0.4 ],\n",
              "       [0.41, 0.42, 0.43, 0.44, 0.45, 0.46, 0.47, 0.48, 0.49, 0.5 ],\n",
              "       [0.51, 0.52, 0.53, 0.54, 0.55, 0.56, 0.57, 0.58, 0.59, 0.6 ],\n",
              "       [0.61, 0.62, 0.63, 0.64, 0.65, 0.66, 0.67, 0.68, 0.69, 0.7 ],\n",
              "       [0.71, 0.72, 0.73, 0.74, 0.75, 0.76, 0.77, 0.78, 0.79, 0.8 ],\n",
              "       [0.81, 0.82, 0.83, 0.84, 0.85, 0.86, 0.87, 0.88, 0.89, 0.9 ],\n",
              "       [0.91, 0.92, 0.93, 0.94, 0.95, 0.96, 0.97, 0.98, 0.99, 1.  ]])"
            ]
          },
          "metadata": {
            "tags": []
          },
          "execution_count": 11
        }
      ]
    },
    {
      "cell_type": "markdown",
      "metadata": {
        "id": "6JPcvh_jfBan"
      },
      "source": [
        "#### 12. Create an array of 20 linearly spaced points between 0 and 1:"
      ]
    },
    {
      "cell_type": "code",
      "metadata": {
        "collapsed": true,
        "id": "-pplDBnJfBan",
        "colab": {
          "base_uri": "https://localhost:8080/"
        },
        "outputId": "b3eb5ea5-018e-49b1-bfe8-2ff550bc7d93"
      },
      "source": [
        "np.linspace(0,1,20)"
      ],
      "execution_count": 13,
      "outputs": [
        {
          "output_type": "execute_result",
          "data": {
            "text/plain": [
              "array([0.        , 0.05263158, 0.10526316, 0.15789474, 0.21052632,\n",
              "       0.26315789, 0.31578947, 0.36842105, 0.42105263, 0.47368421,\n",
              "       0.52631579, 0.57894737, 0.63157895, 0.68421053, 0.73684211,\n",
              "       0.78947368, 0.84210526, 0.89473684, 0.94736842, 1.        ])"
            ]
          },
          "metadata": {
            "tags": []
          },
          "execution_count": 13
        }
      ]
    },
    {
      "cell_type": "code",
      "metadata": {
        "id": "lpzWAneIfBan",
        "outputId": "9847f727-63b1-444b-c8ba-8b4be40c1ddb"
      },
      "source": [
        "# DON'T WRITE HERE"
      ],
      "execution_count": null,
      "outputs": [
        {
          "output_type": "execute_result",
          "data": {
            "text/plain": [
              "array([0.        , 0.05263158, 0.10526316, 0.15789474, 0.21052632,\n",
              "       0.26315789, 0.31578947, 0.36842105, 0.42105263, 0.47368421,\n",
              "       0.52631579, 0.57894737, 0.63157895, 0.68421053, 0.73684211,\n",
              "       0.78947368, 0.84210526, 0.89473684, 0.94736842, 1.        ])"
            ]
          },
          "metadata": {
            "tags": []
          },
          "execution_count": 12
        }
      ]
    },
    {
      "cell_type": "markdown",
      "metadata": {
        "id": "70Jd1IR6fBao"
      },
      "source": [
        "## Numpy Indexing and Selection\n",
        "\n",
        "Now you will be given a starting matrix (be sure to run the cell below!), and be asked to replicate the resulting matrix outputs:"
      ]
    },
    {
      "cell_type": "code",
      "metadata": {
        "id": "jBgI9FMsfBao",
        "colab": {
          "base_uri": "https://localhost:8080/"
        },
        "outputId": "6496956b-6290-456b-ff15-e1260ebd9815"
      },
      "source": [
        "# RUN THIS CELL - THIS IS OUR STARTING MATRIX\n",
        "mat = np.arange(1,26).reshape(5,5)\n",
        "mat"
      ],
      "execution_count": 14,
      "outputs": [
        {
          "output_type": "execute_result",
          "data": {
            "text/plain": [
              "array([[ 1,  2,  3,  4,  5],\n",
              "       [ 6,  7,  8,  9, 10],\n",
              "       [11, 12, 13, 14, 15],\n",
              "       [16, 17, 18, 19, 20],\n",
              "       [21, 22, 23, 24, 25]])"
            ]
          },
          "metadata": {
            "tags": []
          },
          "execution_count": 14
        }
      ]
    },
    {
      "cell_type": "markdown",
      "metadata": {
        "id": "z_oOm5n1fBao"
      },
      "source": [
        "#### 13. Write code that reproduces the output shown below.<br><br>&emsp;&ensp;Be careful not to run the cell immediately above the output, otherwise you won't be able to see the output any more."
      ]
    },
    {
      "cell_type": "code",
      "metadata": {
        "collapsed": true,
        "id": "WKxV2TYTfBap",
        "colab": {
          "base_uri": "https://localhost:8080/"
        },
        "outputId": "6dbb5a3f-9ef5-472b-ede0-82340085b4a8"
      },
      "source": [
        "# CODE HERE\n",
        "mat[2:,1:]"
      ],
      "execution_count": 15,
      "outputs": [
        {
          "output_type": "execute_result",
          "data": {
            "text/plain": [
              "array([[12, 13, 14, 15],\n",
              "       [17, 18, 19, 20],\n",
              "       [22, 23, 24, 25]])"
            ]
          },
          "metadata": {
            "tags": []
          },
          "execution_count": 15
        }
      ]
    },
    {
      "cell_type": "code",
      "metadata": {
        "id": "fIHTur1zfBap",
        "outputId": "b8faf055-4258-45a9-c70c-42a038ef39c5"
      },
      "source": [
        "# DON'T WRITE HERE"
      ],
      "execution_count": null,
      "outputs": [
        {
          "output_type": "execute_result",
          "data": {
            "text/plain": [
              "array([[12, 13, 14, 15],\n",
              "       [17, 18, 19, 20],\n",
              "       [22, 23, 24, 25]])"
            ]
          },
          "metadata": {
            "tags": []
          },
          "execution_count": 14
        }
      ]
    },
    {
      "cell_type": "markdown",
      "metadata": {
        "id": "gjRZs7TDfBap"
      },
      "source": [
        "#### 14. Write code that reproduces the output shown below."
      ]
    },
    {
      "cell_type": "code",
      "metadata": {
        "id": "aBkNhQc3fBaq",
        "colab": {
          "base_uri": "https://localhost:8080/"
        },
        "outputId": "4c1ea648-3b74-4ed4-e3ae-4c25f820a37d"
      },
      "source": [
        "mat[3,4]"
      ],
      "execution_count": 16,
      "outputs": [
        {
          "output_type": "execute_result",
          "data": {
            "text/plain": [
              "20"
            ]
          },
          "metadata": {
            "tags": []
          },
          "execution_count": 16
        }
      ]
    },
    {
      "cell_type": "code",
      "metadata": {
        "id": "W64YetW1fBaq",
        "outputId": "f27d6fc1-da90-4429-a0e9-ea0cd5bf84a5"
      },
      "source": [
        "# DON'T WRITE HERE"
      ],
      "execution_count": null,
      "outputs": [
        {
          "output_type": "execute_result",
          "data": {
            "text/plain": [
              "20"
            ]
          },
          "metadata": {
            "tags": []
          },
          "execution_count": 15
        }
      ]
    },
    {
      "cell_type": "markdown",
      "metadata": {
        "id": "nk9ivtNYfBaq"
      },
      "source": [
        "#### 15. Write code that reproduces the output shown below."
      ]
    },
    {
      "cell_type": "code",
      "metadata": {
        "id": "JY1UCRSqfBaq",
        "colab": {
          "base_uri": "https://localhost:8080/"
        },
        "outputId": "c1a595e3-0693-4a29-baf0-b9da3050ed11"
      },
      "source": [
        "mat[0:3,1].reshape(3,1)"
      ],
      "execution_count": 23,
      "outputs": [
        {
          "output_type": "execute_result",
          "data": {
            "text/plain": [
              "array([[ 2],\n",
              "       [ 7],\n",
              "       [12]])"
            ]
          },
          "metadata": {
            "tags": []
          },
          "execution_count": 23
        }
      ]
    },
    {
      "cell_type": "code",
      "metadata": {
        "id": "NYLjBBJUfBaq",
        "outputId": "b1b52638-8a58-483a-94a3-063c88097f7b"
      },
      "source": [
        "# DON'T WRITE HERE"
      ],
      "execution_count": null,
      "outputs": [
        {
          "output_type": "execute_result",
          "data": {
            "text/plain": [
              "array([[ 2],\n",
              "       [ 7],\n",
              "       [12]])"
            ]
          },
          "metadata": {
            "tags": []
          },
          "execution_count": 16
        }
      ]
    },
    {
      "cell_type": "markdown",
      "metadata": {
        "id": "g1UHwJRsfBar"
      },
      "source": [
        "#### 16. Write code that reproduces the output shown below."
      ]
    },
    {
      "cell_type": "code",
      "metadata": {
        "id": "CjdQ475rfBar",
        "colab": {
          "base_uri": "https://localhost:8080/"
        },
        "outputId": "41a40f5a-8a9a-4e0b-fdba-6cb8b2b611a4"
      },
      "source": [
        "mat[4,0:5]\n"
      ],
      "execution_count": 24,
      "outputs": [
        {
          "output_type": "execute_result",
          "data": {
            "text/plain": [
              "array([21, 22, 23, 24, 25])"
            ]
          },
          "metadata": {
            "tags": []
          },
          "execution_count": 24
        }
      ]
    },
    {
      "cell_type": "code",
      "metadata": {
        "id": "Ja9j9eNcfBar",
        "outputId": "5c87ed8c-d5d9-450c-d153-111130bd2322"
      },
      "source": [
        "# DON'T WRITE HERE"
      ],
      "execution_count": null,
      "outputs": [
        {
          "output_type": "execute_result",
          "data": {
            "text/plain": [
              "array([21, 22, 23, 24, 25])"
            ]
          },
          "metadata": {
            "tags": []
          },
          "execution_count": 17
        }
      ]
    },
    {
      "cell_type": "markdown",
      "metadata": {
        "id": "DPyhFSCQfBas"
      },
      "source": [
        "#### 17. Write code that reproduces the output shown below."
      ]
    },
    {
      "cell_type": "code",
      "metadata": {
        "id": "Nk6cRuMYfBas",
        "colab": {
          "base_uri": "https://localhost:8080/"
        },
        "outputId": "f8d9c54b-2082-4bd3-fafa-7ac38b66e4c7"
      },
      "source": [
        "mat[3:,0:5]"
      ],
      "execution_count": 22,
      "outputs": [
        {
          "output_type": "execute_result",
          "data": {
            "text/plain": [
              "array([[16, 17, 18, 19, 20],\n",
              "       [21, 22, 23, 24, 25]])"
            ]
          },
          "metadata": {
            "tags": []
          },
          "execution_count": 22
        }
      ]
    },
    {
      "cell_type": "code",
      "metadata": {
        "id": "GdOgHMB-fBas",
        "outputId": "b5c58fc5-4d96-4545-bd7b-b5c9fe5d91d0"
      },
      "source": [
        "# DON'T WRITE HERE"
      ],
      "execution_count": null,
      "outputs": [
        {
          "output_type": "execute_result",
          "data": {
            "text/plain": [
              "array([[16, 17, 18, 19, 20],\n",
              "       [21, 22, 23, 24, 25]])"
            ]
          },
          "metadata": {
            "tags": []
          },
          "execution_count": 18
        }
      ]
    },
    {
      "cell_type": "markdown",
      "metadata": {
        "id": "9Iq3bYLafBas"
      },
      "source": [
        "## NumPy Operations"
      ]
    },
    {
      "cell_type": "markdown",
      "metadata": {
        "id": "raILpv7MfBas"
      },
      "source": [
        "#### 18. Get the sum of all the values in mat"
      ]
    },
    {
      "cell_type": "code",
      "metadata": {
        "collapsed": true,
        "id": "Dl_RM51efBat",
        "colab": {
          "base_uri": "https://localhost:8080/"
        },
        "outputId": "bd846191-341e-4f87-e82b-bced1e5c201f"
      },
      "source": [
        "mat.sum()"
      ],
      "execution_count": 25,
      "outputs": [
        {
          "output_type": "execute_result",
          "data": {
            "text/plain": [
              "325"
            ]
          },
          "metadata": {
            "tags": []
          },
          "execution_count": 25
        }
      ]
    },
    {
      "cell_type": "code",
      "metadata": {
        "id": "YQ-ho_BBfBat",
        "outputId": "d2d693b1-43e8-4320-a438-f3859103aaff"
      },
      "source": [
        "# DON'T WRITE HERE"
      ],
      "execution_count": null,
      "outputs": [
        {
          "output_type": "execute_result",
          "data": {
            "text/plain": [
              "325"
            ]
          },
          "metadata": {
            "tags": []
          },
          "execution_count": 19
        }
      ]
    },
    {
      "cell_type": "markdown",
      "metadata": {
        "id": "QMTl1G8dfBat"
      },
      "source": [
        "#### 19. Get the standard deviation of the values in mat"
      ]
    },
    {
      "cell_type": "code",
      "metadata": {
        "collapsed": true,
        "id": "EiCu5m-pfBat",
        "colab": {
          "base_uri": "https://localhost:8080/"
        },
        "outputId": "8d45116d-0647-4226-f03d-30701f47ec96"
      },
      "source": [
        "mat.std()"
      ],
      "execution_count": 26,
      "outputs": [
        {
          "output_type": "execute_result",
          "data": {
            "text/plain": [
              "7.211102550927978"
            ]
          },
          "metadata": {
            "tags": []
          },
          "execution_count": 26
        }
      ]
    },
    {
      "cell_type": "code",
      "metadata": {
        "id": "yiAsABLafBau",
        "outputId": "a40dc5fa-39ba-4930-b5ac-b6268ebc58d0"
      },
      "source": [
        "# DON'T WRITE HERE"
      ],
      "execution_count": null,
      "outputs": [
        {
          "output_type": "execute_result",
          "data": {
            "text/plain": [
              "7.211102550927978"
            ]
          },
          "metadata": {
            "tags": []
          },
          "execution_count": 20
        }
      ]
    },
    {
      "cell_type": "markdown",
      "metadata": {
        "id": "gtTaaI6ZfBau"
      },
      "source": [
        "#### 20. Get the sum of all the columns in mat"
      ]
    },
    {
      "cell_type": "code",
      "metadata": {
        "collapsed": true,
        "id": "aiVlEEScfBau",
        "colab": {
          "base_uri": "https://localhost:8080/"
        },
        "outputId": "e5def8e0-a6e5-4c69-bffd-b76b1a039343"
      },
      "source": [
        "mat.sum(axis = 0)"
      ],
      "execution_count": 27,
      "outputs": [
        {
          "output_type": "execute_result",
          "data": {
            "text/plain": [
              "array([55, 60, 65, 70, 75])"
            ]
          },
          "metadata": {
            "tags": []
          },
          "execution_count": 27
        }
      ]
    },
    {
      "cell_type": "code",
      "metadata": {
        "id": "NMSDogxWfBau",
        "outputId": "cf07b351-0ca1-418b-ca1b-f7a469b67722"
      },
      "source": [
        "# DON'T WRITE HERE"
      ],
      "execution_count": null,
      "outputs": [
        {
          "output_type": "execute_result",
          "data": {
            "text/plain": [
              "array([55, 60, 65, 70, 75])"
            ]
          },
          "metadata": {
            "tags": []
          },
          "execution_count": 21
        }
      ]
    },
    {
      "cell_type": "markdown",
      "metadata": {
        "id": "A-8zc9ITfBav"
      },
      "source": [
        "## Bonus Question\n",
        "We worked a lot with random data with numpy, but is there a way we can insure that we always get the same random numbers? What does the seed value mean? Does it matter what the actual number is? [Click Here for a Hint](https://www.google.com/search?q=numpy+random+seed)"
      ]
    },
    {
      "cell_type": "code",
      "metadata": {
        "id": "K18SZHCAfBav"
      },
      "source": [
        "the way to ensure that we get the same random numbers on the same machines or even on the different machines we should use the concept of SEED(). when we use seed value like np.random.seed(42) everyone using the same seed value will get the same set of random numbers even on different machines. the seed number should remains same otherwise we would not be getting the same values."
      ],
      "execution_count": null,
      "outputs": []
    },
    {
      "cell_type": "markdown",
      "metadata": {
        "collapsed": true,
        "id": "04lW1RB5fBav"
      },
      "source": [
        "# Great Job!"
      ]
    }
  ]
}